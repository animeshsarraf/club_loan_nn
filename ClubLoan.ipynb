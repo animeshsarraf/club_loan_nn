{
 "cells": [
  {
   "cell_type": "code",
   "execution_count": 1,
   "metadata": {},
   "outputs": [],
   "source": [
    "import pandas as pd\n",
    "import numpy as np\n"
   ]
  },
  {
   "cell_type": "code",
   "execution_count": 2,
   "metadata": {},
   "outputs": [
    {
     "data": {
      "text/plain": [
       "(9578, 14)"
      ]
     },
     "execution_count": 2,
     "metadata": {},
     "output_type": "execute_result"
    }
   ],
   "source": [
    "raw_df = pd.read_csv(\"loan_data.csv\")\n",
    "raw_df.shape"
   ]
  },
  {
   "cell_type": "code",
   "execution_count": 3,
   "metadata": {},
   "outputs": [
    {
     "data": {
      "text/html": [
       "<div>\n",
       "<style scoped>\n",
       "    .dataframe tbody tr th:only-of-type {\n",
       "        vertical-align: middle;\n",
       "    }\n",
       "\n",
       "    .dataframe tbody tr th {\n",
       "        vertical-align: top;\n",
       "    }\n",
       "\n",
       "    .dataframe thead th {\n",
       "        text-align: right;\n",
       "    }\n",
       "</style>\n",
       "<table border=\"1\" class=\"dataframe\">\n",
       "  <thead>\n",
       "    <tr style=\"text-align: right;\">\n",
       "      <th></th>\n",
       "      <th>credit.policy</th>\n",
       "      <th>int.rate</th>\n",
       "      <th>installment</th>\n",
       "      <th>log.annual.inc</th>\n",
       "      <th>dti</th>\n",
       "      <th>fico</th>\n",
       "      <th>days.with.cr.line</th>\n",
       "      <th>revol.bal</th>\n",
       "      <th>revol.util</th>\n",
       "      <th>inq.last.6mths</th>\n",
       "      <th>delinq.2yrs</th>\n",
       "      <th>pub.rec</th>\n",
       "      <th>not.fully.paid</th>\n",
       "    </tr>\n",
       "  </thead>\n",
       "  <tbody>\n",
       "    <tr>\n",
       "      <th>count</th>\n",
       "      <td>9578.000000</td>\n",
       "      <td>9578.000000</td>\n",
       "      <td>9578.000000</td>\n",
       "      <td>9578.000000</td>\n",
       "      <td>9578.000000</td>\n",
       "      <td>9578.000000</td>\n",
       "      <td>9578.000000</td>\n",
       "      <td>9.578000e+03</td>\n",
       "      <td>9578.000000</td>\n",
       "      <td>9578.000000</td>\n",
       "      <td>9578.000000</td>\n",
       "      <td>9578.000000</td>\n",
       "      <td>9578.000000</td>\n",
       "    </tr>\n",
       "    <tr>\n",
       "      <th>mean</th>\n",
       "      <td>0.804970</td>\n",
       "      <td>0.122640</td>\n",
       "      <td>319.089413</td>\n",
       "      <td>10.932117</td>\n",
       "      <td>12.606679</td>\n",
       "      <td>710.846314</td>\n",
       "      <td>4560.767197</td>\n",
       "      <td>1.691396e+04</td>\n",
       "      <td>46.799236</td>\n",
       "      <td>1.577469</td>\n",
       "      <td>0.163708</td>\n",
       "      <td>0.062122</td>\n",
       "      <td>0.160054</td>\n",
       "    </tr>\n",
       "    <tr>\n",
       "      <th>std</th>\n",
       "      <td>0.396245</td>\n",
       "      <td>0.026847</td>\n",
       "      <td>207.071301</td>\n",
       "      <td>0.614813</td>\n",
       "      <td>6.883970</td>\n",
       "      <td>37.970537</td>\n",
       "      <td>2496.930377</td>\n",
       "      <td>3.375619e+04</td>\n",
       "      <td>29.014417</td>\n",
       "      <td>2.200245</td>\n",
       "      <td>0.546215</td>\n",
       "      <td>0.262126</td>\n",
       "      <td>0.366676</td>\n",
       "    </tr>\n",
       "    <tr>\n",
       "      <th>min</th>\n",
       "      <td>0.000000</td>\n",
       "      <td>0.060000</td>\n",
       "      <td>15.670000</td>\n",
       "      <td>7.547502</td>\n",
       "      <td>0.000000</td>\n",
       "      <td>612.000000</td>\n",
       "      <td>178.958333</td>\n",
       "      <td>0.000000e+00</td>\n",
       "      <td>0.000000</td>\n",
       "      <td>0.000000</td>\n",
       "      <td>0.000000</td>\n",
       "      <td>0.000000</td>\n",
       "      <td>0.000000</td>\n",
       "    </tr>\n",
       "    <tr>\n",
       "      <th>25%</th>\n",
       "      <td>1.000000</td>\n",
       "      <td>0.103900</td>\n",
       "      <td>163.770000</td>\n",
       "      <td>10.558414</td>\n",
       "      <td>7.212500</td>\n",
       "      <td>682.000000</td>\n",
       "      <td>2820.000000</td>\n",
       "      <td>3.187000e+03</td>\n",
       "      <td>22.600000</td>\n",
       "      <td>0.000000</td>\n",
       "      <td>0.000000</td>\n",
       "      <td>0.000000</td>\n",
       "      <td>0.000000</td>\n",
       "    </tr>\n",
       "    <tr>\n",
       "      <th>50%</th>\n",
       "      <td>1.000000</td>\n",
       "      <td>0.122100</td>\n",
       "      <td>268.950000</td>\n",
       "      <td>10.928884</td>\n",
       "      <td>12.665000</td>\n",
       "      <td>707.000000</td>\n",
       "      <td>4139.958333</td>\n",
       "      <td>8.596000e+03</td>\n",
       "      <td>46.300000</td>\n",
       "      <td>1.000000</td>\n",
       "      <td>0.000000</td>\n",
       "      <td>0.000000</td>\n",
       "      <td>0.000000</td>\n",
       "    </tr>\n",
       "    <tr>\n",
       "      <th>75%</th>\n",
       "      <td>1.000000</td>\n",
       "      <td>0.140700</td>\n",
       "      <td>432.762500</td>\n",
       "      <td>11.291293</td>\n",
       "      <td>17.950000</td>\n",
       "      <td>737.000000</td>\n",
       "      <td>5730.000000</td>\n",
       "      <td>1.824950e+04</td>\n",
       "      <td>70.900000</td>\n",
       "      <td>2.000000</td>\n",
       "      <td>0.000000</td>\n",
       "      <td>0.000000</td>\n",
       "      <td>0.000000</td>\n",
       "    </tr>\n",
       "    <tr>\n",
       "      <th>max</th>\n",
       "      <td>1.000000</td>\n",
       "      <td>0.216400</td>\n",
       "      <td>940.140000</td>\n",
       "      <td>14.528354</td>\n",
       "      <td>29.960000</td>\n",
       "      <td>827.000000</td>\n",
       "      <td>17639.958330</td>\n",
       "      <td>1.207359e+06</td>\n",
       "      <td>119.000000</td>\n",
       "      <td>33.000000</td>\n",
       "      <td>13.000000</td>\n",
       "      <td>5.000000</td>\n",
       "      <td>1.000000</td>\n",
       "    </tr>\n",
       "  </tbody>\n",
       "</table>\n",
       "</div>"
      ],
      "text/plain": [
       "       credit.policy     int.rate  installment  log.annual.inc          dti  \\\n",
       "count    9578.000000  9578.000000  9578.000000     9578.000000  9578.000000   \n",
       "mean        0.804970     0.122640   319.089413       10.932117    12.606679   \n",
       "std         0.396245     0.026847   207.071301        0.614813     6.883970   \n",
       "min         0.000000     0.060000    15.670000        7.547502     0.000000   \n",
       "25%         1.000000     0.103900   163.770000       10.558414     7.212500   \n",
       "50%         1.000000     0.122100   268.950000       10.928884    12.665000   \n",
       "75%         1.000000     0.140700   432.762500       11.291293    17.950000   \n",
       "max         1.000000     0.216400   940.140000       14.528354    29.960000   \n",
       "\n",
       "              fico  days.with.cr.line     revol.bal   revol.util  \\\n",
       "count  9578.000000        9578.000000  9.578000e+03  9578.000000   \n",
       "mean    710.846314        4560.767197  1.691396e+04    46.799236   \n",
       "std      37.970537        2496.930377  3.375619e+04    29.014417   \n",
       "min     612.000000         178.958333  0.000000e+00     0.000000   \n",
       "25%     682.000000        2820.000000  3.187000e+03    22.600000   \n",
       "50%     707.000000        4139.958333  8.596000e+03    46.300000   \n",
       "75%     737.000000        5730.000000  1.824950e+04    70.900000   \n",
       "max     827.000000       17639.958330  1.207359e+06   119.000000   \n",
       "\n",
       "       inq.last.6mths  delinq.2yrs      pub.rec  not.fully.paid  \n",
       "count     9578.000000  9578.000000  9578.000000     9578.000000  \n",
       "mean         1.577469     0.163708     0.062122        0.160054  \n",
       "std          2.200245     0.546215     0.262126        0.366676  \n",
       "min          0.000000     0.000000     0.000000        0.000000  \n",
       "25%          0.000000     0.000000     0.000000        0.000000  \n",
       "50%          1.000000     0.000000     0.000000        0.000000  \n",
       "75%          2.000000     0.000000     0.000000        0.000000  \n",
       "max         33.000000    13.000000     5.000000        1.000000  "
      ]
     },
     "execution_count": 3,
     "metadata": {},
     "output_type": "execute_result"
    }
   ],
   "source": [
    "#Getting a Statstical summary of data\n",
    "raw_df.describe()"
   ]
  },
  {
   "cell_type": "code",
   "execution_count": 4,
   "metadata": {},
   "outputs": [
    {
     "name": "stdout",
     "output_type": "stream",
     "text": [
      "<class 'pandas.core.frame.DataFrame'>\n",
      "RangeIndex: 9578 entries, 0 to 9577\n",
      "Data columns (total 14 columns):\n",
      "credit.policy        9578 non-null int64\n",
      "purpose              9578 non-null object\n",
      "int.rate             9578 non-null float64\n",
      "installment          9578 non-null float64\n",
      "log.annual.inc       9578 non-null float64\n",
      "dti                  9578 non-null float64\n",
      "fico                 9578 non-null int64\n",
      "days.with.cr.line    9578 non-null float64\n",
      "revol.bal            9578 non-null int64\n",
      "revol.util           9578 non-null float64\n",
      "inq.last.6mths       9578 non-null int64\n",
      "delinq.2yrs          9578 non-null int64\n",
      "pub.rec              9578 non-null int64\n",
      "not.fully.paid       9578 non-null int64\n",
      "dtypes: float64(6), int64(7), object(1)\n",
      "memory usage: 1.0+ MB\n"
     ]
    }
   ],
   "source": [
    "# Getting the datatype and checking for null values if any\n",
    "raw_df.info()"
   ]
  },
  {
   "cell_type": "code",
   "execution_count": 5,
   "metadata": {},
   "outputs": [
    {
     "data": {
      "text/plain": [
       "debt_consolidation    3957\n",
       "all_other             2331\n",
       "credit_card           1262\n",
       "home_improvement       629\n",
       "small_business         619\n",
       "major_purchase         437\n",
       "educational            343\n",
       "Name: purpose, dtype: int64"
      ]
     },
     "execution_count": 5,
     "metadata": {},
     "output_type": "execute_result"
    }
   ],
   "source": [
    "raw_df['purpose'].value_counts()"
   ]
  },
  {
   "cell_type": "code",
   "execution_count": 6,
   "metadata": {},
   "outputs": [
    {
     "data": {
      "text/html": [
       "<div>\n",
       "<style scoped>\n",
       "    .dataframe tbody tr th:only-of-type {\n",
       "        vertical-align: middle;\n",
       "    }\n",
       "\n",
       "    .dataframe tbody tr th {\n",
       "        vertical-align: top;\n",
       "    }\n",
       "\n",
       "    .dataframe thead th {\n",
       "        text-align: right;\n",
       "    }\n",
       "</style>\n",
       "<table border=\"1\" class=\"dataframe\">\n",
       "  <thead>\n",
       "    <tr style=\"text-align: right;\">\n",
       "      <th></th>\n",
       "      <th>purpose_all_other</th>\n",
       "      <th>purpose_credit_card</th>\n",
       "      <th>purpose_debt_consolidation</th>\n",
       "      <th>purpose_educational</th>\n",
       "      <th>purpose_home_improvement</th>\n",
       "      <th>purpose_major_purchase</th>\n",
       "      <th>purpose_small_business</th>\n",
       "    </tr>\n",
       "  </thead>\n",
       "  <tbody>\n",
       "    <tr>\n",
       "      <th>0</th>\n",
       "      <td>0</td>\n",
       "      <td>0</td>\n",
       "      <td>1</td>\n",
       "      <td>0</td>\n",
       "      <td>0</td>\n",
       "      <td>0</td>\n",
       "      <td>0</td>\n",
       "    </tr>\n",
       "    <tr>\n",
       "      <th>1</th>\n",
       "      <td>0</td>\n",
       "      <td>1</td>\n",
       "      <td>0</td>\n",
       "      <td>0</td>\n",
       "      <td>0</td>\n",
       "      <td>0</td>\n",
       "      <td>0</td>\n",
       "    </tr>\n",
       "    <tr>\n",
       "      <th>2</th>\n",
       "      <td>0</td>\n",
       "      <td>0</td>\n",
       "      <td>1</td>\n",
       "      <td>0</td>\n",
       "      <td>0</td>\n",
       "      <td>0</td>\n",
       "      <td>0</td>\n",
       "    </tr>\n",
       "    <tr>\n",
       "      <th>3</th>\n",
       "      <td>0</td>\n",
       "      <td>0</td>\n",
       "      <td>1</td>\n",
       "      <td>0</td>\n",
       "      <td>0</td>\n",
       "      <td>0</td>\n",
       "      <td>0</td>\n",
       "    </tr>\n",
       "    <tr>\n",
       "      <th>4</th>\n",
       "      <td>0</td>\n",
       "      <td>1</td>\n",
       "      <td>0</td>\n",
       "      <td>0</td>\n",
       "      <td>0</td>\n",
       "      <td>0</td>\n",
       "      <td>0</td>\n",
       "    </tr>\n",
       "  </tbody>\n",
       "</table>\n",
       "</div>"
      ],
      "text/plain": [
       "   purpose_all_other  purpose_credit_card  purpose_debt_consolidation  \\\n",
       "0                  0                    0                           1   \n",
       "1                  0                    1                           0   \n",
       "2                  0                    0                           1   \n",
       "3                  0                    0                           1   \n",
       "4                  0                    1                           0   \n",
       "\n",
       "   purpose_educational  purpose_home_improvement  purpose_major_purchase  \\\n",
       "0                    0                         0                       0   \n",
       "1                    0                         0                       0   \n",
       "2                    0                         0                       0   \n",
       "3                    0                         0                       0   \n",
       "4                    0                         0                       0   \n",
       "\n",
       "   purpose_small_business  \n",
       "0                       0  \n",
       "1                       0  \n",
       "2                       0  \n",
       "3                       0  \n",
       "4                       0  "
      ]
     },
     "execution_count": 6,
     "metadata": {},
     "output_type": "execute_result"
    }
   ],
   "source": [
    "# Encoding the categorical values to numerical\n",
    "purpose_encoded = pd.get_dummies(raw_df['purpose'])\n",
    "purpose_encoded.columns = ['purpose_all_other','purpose_credit_card','purpose_debt_consolidation',\n",
    "                           'purpose_educational','purpose_home_improvement','purpose_major_purchase',\n",
    "                          'purpose_small_business']\n",
    "purpose_encoded.head()"
   ]
  },
  {
   "cell_type": "code",
   "execution_count": 7,
   "metadata": {},
   "outputs": [
    {
     "data": {
      "text/html": [
       "<div>\n",
       "<style scoped>\n",
       "    .dataframe tbody tr th:only-of-type {\n",
       "        vertical-align: middle;\n",
       "    }\n",
       "\n",
       "    .dataframe tbody tr th {\n",
       "        vertical-align: top;\n",
       "    }\n",
       "\n",
       "    .dataframe thead th {\n",
       "        text-align: right;\n",
       "    }\n",
       "</style>\n",
       "<table border=\"1\" class=\"dataframe\">\n",
       "  <thead>\n",
       "    <tr style=\"text-align: right;\">\n",
       "      <th></th>\n",
       "      <th>credit.policy</th>\n",
       "      <th>int.rate</th>\n",
       "      <th>installment</th>\n",
       "      <th>log.annual.inc</th>\n",
       "      <th>dti</th>\n",
       "      <th>fico</th>\n",
       "      <th>days.with.cr.line</th>\n",
       "      <th>revol.bal</th>\n",
       "      <th>revol.util</th>\n",
       "      <th>inq.last.6mths</th>\n",
       "      <th>delinq.2yrs</th>\n",
       "      <th>pub.rec</th>\n",
       "      <th>not.fully.paid</th>\n",
       "      <th>purpose_all_other</th>\n",
       "      <th>purpose_credit_card</th>\n",
       "      <th>purpose_debt_consolidation</th>\n",
       "      <th>purpose_educational</th>\n",
       "      <th>purpose_home_improvement</th>\n",
       "      <th>purpose_major_purchase</th>\n",
       "      <th>purpose_small_business</th>\n",
       "    </tr>\n",
       "  </thead>\n",
       "  <tbody>\n",
       "    <tr>\n",
       "      <th>0</th>\n",
       "      <td>1</td>\n",
       "      <td>0.1189</td>\n",
       "      <td>829.10</td>\n",
       "      <td>11.350407</td>\n",
       "      <td>19.48</td>\n",
       "      <td>737</td>\n",
       "      <td>5639.958333</td>\n",
       "      <td>28854</td>\n",
       "      <td>52.1</td>\n",
       "      <td>0</td>\n",
       "      <td>0</td>\n",
       "      <td>0</td>\n",
       "      <td>0</td>\n",
       "      <td>0</td>\n",
       "      <td>0</td>\n",
       "      <td>1</td>\n",
       "      <td>0</td>\n",
       "      <td>0</td>\n",
       "      <td>0</td>\n",
       "      <td>0</td>\n",
       "    </tr>\n",
       "    <tr>\n",
       "      <th>1</th>\n",
       "      <td>1</td>\n",
       "      <td>0.1071</td>\n",
       "      <td>228.22</td>\n",
       "      <td>11.082143</td>\n",
       "      <td>14.29</td>\n",
       "      <td>707</td>\n",
       "      <td>2760.000000</td>\n",
       "      <td>33623</td>\n",
       "      <td>76.7</td>\n",
       "      <td>0</td>\n",
       "      <td>0</td>\n",
       "      <td>0</td>\n",
       "      <td>0</td>\n",
       "      <td>0</td>\n",
       "      <td>1</td>\n",
       "      <td>0</td>\n",
       "      <td>0</td>\n",
       "      <td>0</td>\n",
       "      <td>0</td>\n",
       "      <td>0</td>\n",
       "    </tr>\n",
       "    <tr>\n",
       "      <th>2</th>\n",
       "      <td>1</td>\n",
       "      <td>0.1357</td>\n",
       "      <td>366.86</td>\n",
       "      <td>10.373491</td>\n",
       "      <td>11.63</td>\n",
       "      <td>682</td>\n",
       "      <td>4710.000000</td>\n",
       "      <td>3511</td>\n",
       "      <td>25.6</td>\n",
       "      <td>1</td>\n",
       "      <td>0</td>\n",
       "      <td>0</td>\n",
       "      <td>0</td>\n",
       "      <td>0</td>\n",
       "      <td>0</td>\n",
       "      <td>1</td>\n",
       "      <td>0</td>\n",
       "      <td>0</td>\n",
       "      <td>0</td>\n",
       "      <td>0</td>\n",
       "    </tr>\n",
       "    <tr>\n",
       "      <th>3</th>\n",
       "      <td>1</td>\n",
       "      <td>0.1008</td>\n",
       "      <td>162.34</td>\n",
       "      <td>11.350407</td>\n",
       "      <td>8.10</td>\n",
       "      <td>712</td>\n",
       "      <td>2699.958333</td>\n",
       "      <td>33667</td>\n",
       "      <td>73.2</td>\n",
       "      <td>1</td>\n",
       "      <td>0</td>\n",
       "      <td>0</td>\n",
       "      <td>0</td>\n",
       "      <td>0</td>\n",
       "      <td>0</td>\n",
       "      <td>1</td>\n",
       "      <td>0</td>\n",
       "      <td>0</td>\n",
       "      <td>0</td>\n",
       "      <td>0</td>\n",
       "    </tr>\n",
       "    <tr>\n",
       "      <th>4</th>\n",
       "      <td>1</td>\n",
       "      <td>0.1426</td>\n",
       "      <td>102.92</td>\n",
       "      <td>11.299732</td>\n",
       "      <td>14.97</td>\n",
       "      <td>667</td>\n",
       "      <td>4066.000000</td>\n",
       "      <td>4740</td>\n",
       "      <td>39.5</td>\n",
       "      <td>0</td>\n",
       "      <td>1</td>\n",
       "      <td>0</td>\n",
       "      <td>0</td>\n",
       "      <td>0</td>\n",
       "      <td>1</td>\n",
       "      <td>0</td>\n",
       "      <td>0</td>\n",
       "      <td>0</td>\n",
       "      <td>0</td>\n",
       "      <td>0</td>\n",
       "    </tr>\n",
       "  </tbody>\n",
       "</table>\n",
       "</div>"
      ],
      "text/plain": [
       "   credit.policy  int.rate  installment  log.annual.inc    dti  fico  \\\n",
       "0              1    0.1189       829.10       11.350407  19.48   737   \n",
       "1              1    0.1071       228.22       11.082143  14.29   707   \n",
       "2              1    0.1357       366.86       10.373491  11.63   682   \n",
       "3              1    0.1008       162.34       11.350407   8.10   712   \n",
       "4              1    0.1426       102.92       11.299732  14.97   667   \n",
       "\n",
       "   days.with.cr.line  revol.bal  revol.util  inq.last.6mths  delinq.2yrs  \\\n",
       "0        5639.958333      28854        52.1               0            0   \n",
       "1        2760.000000      33623        76.7               0            0   \n",
       "2        4710.000000       3511        25.6               1            0   \n",
       "3        2699.958333      33667        73.2               1            0   \n",
       "4        4066.000000       4740        39.5               0            1   \n",
       "\n",
       "   pub.rec  not.fully.paid  purpose_all_other  purpose_credit_card  \\\n",
       "0        0               0                  0                    0   \n",
       "1        0               0                  0                    1   \n",
       "2        0               0                  0                    0   \n",
       "3        0               0                  0                    0   \n",
       "4        0               0                  0                    1   \n",
       "\n",
       "   purpose_debt_consolidation  purpose_educational  purpose_home_improvement  \\\n",
       "0                           1                    0                         0   \n",
       "1                           0                    0                         0   \n",
       "2                           1                    0                         0   \n",
       "3                           1                    0                         0   \n",
       "4                           0                    0                         0   \n",
       "\n",
       "   purpose_major_purchase  purpose_small_business  \n",
       "0                       0                       0  \n",
       "1                       0                       0  \n",
       "2                       0                       0  \n",
       "3                       0                       0  \n",
       "4                       0                       0  "
      ]
     },
     "execution_count": 7,
     "metadata": {},
     "output_type": "execute_result"
    }
   ],
   "source": [
    "# adding the encoded columns to the df and droping the purpose column\n",
    "raw_df = raw_df.join(purpose_encoded)\n",
    "raw_df.drop(['purpose'],axis=1,inplace=True)\n",
    "raw_df.head()"
   ]
  },
  {
   "cell_type": "code",
   "execution_count": 8,
   "metadata": {
    "scrolled": true
   },
   "outputs": [
    {
     "data": {
      "text/plain": [
       "1    7710\n",
       "0    1868\n",
       "Name: credit.policy, dtype: int64"
      ]
     },
     "execution_count": 8,
     "metadata": {},
     "output_type": "execute_result"
    }
   ],
   "source": [
    "raw_df['credit.policy'].value_counts()"
   ]
  },
  {
   "cell_type": "code",
   "execution_count": 9,
   "metadata": {},
   "outputs": [],
   "source": [
    "c = ['credit.policy','int.rate','installment','log.annual.inc','dti','fico','days.with.cr.line','revol.bal','revol.util','inq.last.6mths','delinq.2yrs','pub.rec','not.fully.paid']\n",
    "temp_df = raw_df.loc[:,c]\n",
    "corr = temp_df.corr()"
   ]
  },
  {
   "cell_type": "code",
   "execution_count": 10,
   "metadata": {},
   "outputs": [
    {
     "data": {
      "image/png": "[encoded data removed]",
      "text/plain": [
       "<Figure size 1800x1440 with 2 Axes>"
      ]
     },
     "metadata": {},
     "output_type": "display_data"
    }
   ],
   "source": [
    "import seaborn as sns\n",
    "import matplotlib.pyplot as plt\n",
    "mask = np.zeros_like(corr)\n",
    "mask[np.triu_indices_from(mask)] = True\n",
    "with sns.axes_style(\"white\"):\n",
    "    f, ax = plt.subplots(figsize=(25,20))\n",
    "    ax = sns.heatmap(corr, mask=mask, vmax=.3, square=True,annot=True,linewidth=.5)"
   ]
  },
  {
   "cell_type": "code",
   "execution_count": 11,
   "metadata": {
    "scrolled": true
   },
   "outputs": [
    {
     "data": {
      "text/html": [
       "<div>\n",
       "<style scoped>\n",
       "    .dataframe tbody tr th:only-of-type {\n",
       "        vertical-align: middle;\n",
       "    }\n",
       "\n",
       "    .dataframe tbody tr th {\n",
       "        vertical-align: top;\n",
       "    }\n",
       "\n",
       "    .dataframe thead th {\n",
       "        text-align: right;\n",
       "    }\n",
       "</style>\n",
       "<table border=\"1\" class=\"dataframe\">\n",
       "  <thead>\n",
       "    <tr style=\"text-align: right;\">\n",
       "      <th></th>\n",
       "      <th>credit.policy</th>\n",
       "      <th>int.rate</th>\n",
       "      <th>installment</th>\n",
       "      <th>log.annual.inc</th>\n",
       "      <th>dti</th>\n",
       "      <th>days.with.cr.line</th>\n",
       "      <th>revol.bal</th>\n",
       "      <th>revol.util</th>\n",
       "      <th>inq.last.6mths</th>\n",
       "      <th>delinq.2yrs</th>\n",
       "      <th>pub.rec</th>\n",
       "      <th>not.fully.paid</th>\n",
       "      <th>purpose_all_other</th>\n",
       "      <th>purpose_credit_card</th>\n",
       "      <th>purpose_debt_consolidation</th>\n",
       "      <th>purpose_educational</th>\n",
       "      <th>purpose_home_improvement</th>\n",
       "      <th>purpose_major_purchase</th>\n",
       "      <th>purpose_small_business</th>\n",
       "    </tr>\n",
       "  </thead>\n",
       "  <tbody>\n",
       "    <tr>\n",
       "      <th>0</th>\n",
       "      <td>1</td>\n",
       "      <td>0.1189</td>\n",
       "      <td>829.10</td>\n",
       "      <td>11.350407</td>\n",
       "      <td>19.48</td>\n",
       "      <td>5639.958333</td>\n",
       "      <td>28854</td>\n",
       "      <td>52.1</td>\n",
       "      <td>0</td>\n",
       "      <td>0</td>\n",
       "      <td>0</td>\n",
       "      <td>0</td>\n",
       "      <td>0</td>\n",
       "      <td>0</td>\n",
       "      <td>1</td>\n",
       "      <td>0</td>\n",
       "      <td>0</td>\n",
       "      <td>0</td>\n",
       "      <td>0</td>\n",
       "    </tr>\n",
       "    <tr>\n",
       "      <th>1</th>\n",
       "      <td>1</td>\n",
       "      <td>0.1071</td>\n",
       "      <td>228.22</td>\n",
       "      <td>11.082143</td>\n",
       "      <td>14.29</td>\n",
       "      <td>2760.000000</td>\n",
       "      <td>33623</td>\n",
       "      <td>76.7</td>\n",
       "      <td>0</td>\n",
       "      <td>0</td>\n",
       "      <td>0</td>\n",
       "      <td>0</td>\n",
       "      <td>0</td>\n",
       "      <td>1</td>\n",
       "      <td>0</td>\n",
       "      <td>0</td>\n",
       "      <td>0</td>\n",
       "      <td>0</td>\n",
       "      <td>0</td>\n",
       "    </tr>\n",
       "    <tr>\n",
       "      <th>2</th>\n",
       "      <td>1</td>\n",
       "      <td>0.1357</td>\n",
       "      <td>366.86</td>\n",
       "      <td>10.373491</td>\n",
       "      <td>11.63</td>\n",
       "      <td>4710.000000</td>\n",
       "      <td>3511</td>\n",
       "      <td>25.6</td>\n",
       "      <td>1</td>\n",
       "      <td>0</td>\n",
       "      <td>0</td>\n",
       "      <td>0</td>\n",
       "      <td>0</td>\n",
       "      <td>0</td>\n",
       "      <td>1</td>\n",
       "      <td>0</td>\n",
       "      <td>0</td>\n",
       "      <td>0</td>\n",
       "      <td>0</td>\n",
       "    </tr>\n",
       "    <tr>\n",
       "      <th>3</th>\n",
       "      <td>1</td>\n",
       "      <td>0.1008</td>\n",
       "      <td>162.34</td>\n",
       "      <td>11.350407</td>\n",
       "      <td>8.10</td>\n",
       "      <td>2699.958333</td>\n",
       "      <td>33667</td>\n",
       "      <td>73.2</td>\n",
       "      <td>1</td>\n",
       "      <td>0</td>\n",
       "      <td>0</td>\n",
       "      <td>0</td>\n",
       "      <td>0</td>\n",
       "      <td>0</td>\n",
       "      <td>1</td>\n",
       "      <td>0</td>\n",
       "      <td>0</td>\n",
       "      <td>0</td>\n",
       "      <td>0</td>\n",
       "    </tr>\n",
       "    <tr>\n",
       "      <th>4</th>\n",
       "      <td>1</td>\n",
       "      <td>0.1426</td>\n",
       "      <td>102.92</td>\n",
       "      <td>11.299732</td>\n",
       "      <td>14.97</td>\n",
       "      <td>4066.000000</td>\n",
       "      <td>4740</td>\n",
       "      <td>39.5</td>\n",
       "      <td>0</td>\n",
       "      <td>1</td>\n",
       "      <td>0</td>\n",
       "      <td>0</td>\n",
       "      <td>0</td>\n",
       "      <td>1</td>\n",
       "      <td>0</td>\n",
       "      <td>0</td>\n",
       "      <td>0</td>\n",
       "      <td>0</td>\n",
       "      <td>0</td>\n",
       "    </tr>\n",
       "  </tbody>\n",
       "</table>\n",
       "</div>"
      ],
      "text/plain": [
       "   credit.policy  int.rate  installment  log.annual.inc    dti  \\\n",
       "0              1    0.1189       829.10       11.350407  19.48   \n",
       "1              1    0.1071       228.22       11.082143  14.29   \n",
       "2              1    0.1357       366.86       10.373491  11.63   \n",
       "3              1    0.1008       162.34       11.350407   8.10   \n",
       "4              1    0.1426       102.92       11.299732  14.97   \n",
       "\n",
       "   days.with.cr.line  revol.bal  revol.util  inq.last.6mths  delinq.2yrs  \\\n",
       "0        5639.958333      28854        52.1               0            0   \n",
       "1        2760.000000      33623        76.7               0            0   \n",
       "2        4710.000000       3511        25.6               1            0   \n",
       "3        2699.958333      33667        73.2               1            0   \n",
       "4        4066.000000       4740        39.5               0            1   \n",
       "\n",
       "   pub.rec  not.fully.paid  purpose_all_other  purpose_credit_card  \\\n",
       "0        0               0                  0                    0   \n",
       "1        0               0                  0                    1   \n",
       "2        0               0                  0                    0   \n",
       "3        0               0                  0                    0   \n",
       "4        0               0                  0                    1   \n",
       "\n",
       "   purpose_debt_consolidation  purpose_educational  purpose_home_improvement  \\\n",
       "0                           1                    0                         0   \n",
       "1                           0                    0                         0   \n",
       "2                           1                    0                         0   \n",
       "3                           1                    0                         0   \n",
       "4                           0                    0                         0   \n",
       "\n",
       "   purpose_major_purchase  purpose_small_business  \n",
       "0                       0                       0  \n",
       "1                       0                       0  \n",
       "2                       0                       0  \n",
       "3                       0                       0  \n",
       "4                       0                       0  "
      ]
     },
     "execution_count": 11,
     "metadata": {},
     "output_type": "execute_result"
    }
   ],
   "source": [
    "# removing features with (+-)0.7 correlation -> fico and int.rate are highly correlated so removing fico\n",
    "raw_df = raw_df.drop(['fico'],axis=1)\n",
    "raw_df.head()"
   ]
  },
  {
   "cell_type": "code",
   "execution_count": 12,
   "metadata": {},
   "outputs": [
    {
     "data": {
      "text/plain": [
       "((9578, 18), (9578,), (9578, 19), 18)"
      ]
     },
     "execution_count": 12,
     "metadata": {},
     "output_type": "execute_result"
    }
   ],
   "source": [
    "cols = raw_df.shape[1]-1\n",
    "x = raw_df.drop(['credit.policy'],axis=1).values\n",
    "y = raw_df['credit.policy'].values\n",
    "x.shape,y.shape,raw_df.shape,cols"
   ]
  },
  {
   "cell_type": "code",
   "execution_count": 13,
   "metadata": {},
   "outputs": [
    {
     "data": {
      "text/plain": [
       "array([[-0.13931753,  2.46309947,  0.68038804, ..., -0.2651173 ,\n",
       "        -0.21864717, -0.26285458],\n",
       "       [-0.57886837, -0.43885443,  0.2440308 , ..., -0.2651173 ,\n",
       "        -0.21864717, -0.26285458],\n",
       "       [ 0.48648368,  0.23070836, -0.90865897, ..., -0.2651173 ,\n",
       "        -0.21864717, -0.26285458],\n",
       "       ...,\n",
       "       [-0.57886837, -1.06867038, -0.54569448, ..., -0.2651173 ,\n",
       "        -0.21864717, -0.26285458],\n",
       "       [ 1.39166043,  0.1569135 , -0.18272998, ...,  3.77191529,\n",
       "        -0.21864717, -0.26285458],\n",
       "       [ 0.61685894,  2.58060136,  0.54059439, ..., -0.2651173 ,\n",
       "        -0.21864717, -0.26285458]])"
      ]
     },
     "execution_count": 13,
     "metadata": {},
     "output_type": "execute_result"
    }
   ],
   "source": [
    "from sklearn.preprocessing import StandardScaler\n",
    "sc = StandardScaler()\n",
    "x_t = sc.fit_transform(x)\n",
    "x_t"
   ]
  },
  {
   "cell_type": "code",
   "execution_count": 14,
   "metadata": {},
   "outputs": [
    {
     "name": "stderr",
     "output_type": "stream",
     "text": [
      "Using TensorFlow backend.\n"
     ]
    }
   ],
   "source": [
    "from keras.models import Sequential\n",
    "from keras.layers import Dense\n",
    "from keras.layers import BatchNormalization\n",
    "from keras.optimizers import SGD, Adam\n",
    "from keras.layers import Dropout"
   ]
  },
  {
   "cell_type": "code",
   "execution_count": 15,
   "metadata": {},
   "outputs": [],
   "source": [
    "model = Sequential()\n",
    "model.add(Dense(20, input_dim=cols, activation='relu', kernel_initializer='he_uniform'))\n",
    "model.add(BatchNormalization())\n",
    "model.add(Dense(30,kernel_initializer='he_uniform', activation='relu'))\n",
    "model.add(Dense(20,kernel_initializer='he_uniform', activation='relu'))\n",
    "model.add(Dense(1, activation='sigmoid'))"
   ]
  },
  {
   "cell_type": "code",
   "execution_count": 16,
   "metadata": {},
   "outputs": [],
   "source": [
    "epoch=50\n",
    "lr = 0.001\n",
    "decay_rate = lr / epoch\n",
    "momentum = 0.9\n",
    "sgd = SGD(lr=lr, momentum=momentum, decay=decay_rate, nesterov=False)\n",
    "model.compile(loss='binary_crossentropy', optimizer=sgd, metrics=['accuracy'])"
   ]
  },
  {
   "cell_type": "code",
   "execution_count": 17,
   "metadata": {},
   "outputs": [
    {
     "data": {
      "text/plain": [
       "((6704, 18), (2874, 18))"
      ]
     },
     "execution_count": 17,
     "metadata": {},
     "output_type": "execute_result"
    }
   ],
   "source": [
    "from sklearn.model_selection import train_test_split\n",
    "x_train, x_test, y_train, y_test = train_test_split(x_t, y, test_size=0.30, random_state=1)\n",
    "x_train.shape, x_test.shape"
   ]
  },
  {
   "cell_type": "code",
   "execution_count": 18,
   "metadata": {
    "scrolled": true
   },
   "outputs": [
    {
     "name": "stdout",
     "output_type": "stream",
     "text": [
      "Train on 6704 samples, validate on 2874 samples\n",
      "Epoch 1/50\n",
      "6704/6704 [==============================] - 0s 57us/step - loss: 0.7355 - accuracy: 0.5837 - val_loss: 0.5659 - val_accuracy: 0.7683\n",
      "Epoch 2/50\n",
      "6704/6704 [==============================] - 0s 16us/step - loss: 0.5299 - accuracy: 0.7874 - val_loss: 0.4982 - val_accuracy: 0.8072\n",
      "Epoch 3/50\n",
      "6704/6704 [==============================] - 0s 16us/step - loss: 0.4807 - accuracy: 0.8112 - val_loss: 0.4592 - val_accuracy: 0.8267\n",
      "Epoch 4/50\n",
      "6704/6704 [==============================] - 0s 16us/step - loss: 0.4492 - accuracy: 0.8234 - val_loss: 0.4309 - val_accuracy: 0.8340\n",
      "Epoch 5/50\n",
      "6704/6704 [==============================] - 0s 18us/step - loss: 0.4265 - accuracy: 0.8374 - val_loss: 0.4087 - val_accuracy: 0.8473\n",
      "Epoch 6/50\n",
      "6704/6704 [==============================] - 0s 19us/step - loss: 0.4069 - accuracy: 0.8408 - val_loss: 0.3908 - val_accuracy: 0.8546\n",
      "Epoch 7/50\n",
      "6704/6704 [==============================] - 0s 18us/step - loss: 0.3934 - accuracy: 0.8511 - val_loss: 0.3773 - val_accuracy: 0.8580\n",
      "Epoch 8/50\n",
      "6704/6704 [==============================] - 0s 17us/step - loss: 0.3822 - accuracy: 0.8550 - val_loss: 0.3649 - val_accuracy: 0.8615\n",
      "Epoch 9/50\n",
      "6704/6704 [==============================] - 0s 17us/step - loss: 0.3706 - accuracy: 0.8556 - val_loss: 0.3557 - val_accuracy: 0.8612\n",
      "Epoch 10/50\n",
      "6704/6704 [==============================] - 0s 16us/step - loss: 0.3631 - accuracy: 0.8572 - val_loss: 0.3460 - val_accuracy: 0.8667\n",
      "Epoch 11/50\n",
      "6704/6704 [==============================] - 0s 16us/step - loss: 0.3525 - accuracy: 0.8646 - val_loss: 0.3371 - val_accuracy: 0.8695\n",
      "Epoch 12/50\n",
      "6704/6704 [==============================] - 0s 16us/step - loss: 0.3462 - accuracy: 0.8661 - val_loss: 0.3300 - val_accuracy: 0.8737\n",
      "Epoch 13/50\n",
      "6704/6704 [==============================] - 0s 18us/step - loss: 0.3400 - accuracy: 0.8707 - val_loss: 0.3230 - val_accuracy: 0.8772\n",
      "Epoch 14/50\n",
      "6704/6704 [==============================] - 0s 16us/step - loss: 0.3325 - accuracy: 0.8705 - val_loss: 0.3171 - val_accuracy: 0.8807\n",
      "Epoch 15/50\n",
      "6704/6704 [==============================] - 0s 17us/step - loss: 0.3270 - accuracy: 0.8740 - val_loss: 0.3117 - val_accuracy: 0.8827\n",
      "Epoch 16/50\n",
      "6704/6704 [==============================] - 0s 19us/step - loss: 0.3249 - accuracy: 0.8719 - val_loss: 0.3067 - val_accuracy: 0.8866\n",
      "Epoch 17/50\n",
      "6704/6704 [==============================] - 0s 16us/step - loss: 0.3173 - accuracy: 0.8787 - val_loss: 0.3028 - val_accuracy: 0.8869\n",
      "Epoch 18/50\n",
      "6704/6704 [==============================] - 0s 17us/step - loss: 0.3159 - accuracy: 0.8747 - val_loss: 0.2994 - val_accuracy: 0.8883\n",
      "Epoch 19/50\n",
      "6704/6704 [==============================] - 0s 16us/step - loss: 0.3121 - accuracy: 0.8802 - val_loss: 0.2963 - val_accuracy: 0.8887\n",
      "Epoch 20/50\n",
      "6704/6704 [==============================] - 0s 16us/step - loss: 0.3102 - accuracy: 0.8798 - val_loss: 0.2942 - val_accuracy: 0.8897\n",
      "Epoch 21/50\n",
      "6704/6704 [==============================] - 0s 16us/step - loss: 0.3050 - accuracy: 0.8828 - val_loss: 0.2920 - val_accuracy: 0.8897\n",
      "Epoch 22/50\n",
      "6704/6704 [==============================] - 0s 18us/step - loss: 0.3022 - accuracy: 0.8814 - val_loss: 0.2897 - val_accuracy: 0.8918\n",
      "Epoch 23/50\n",
      "6704/6704 [==============================] - 0s 17us/step - loss: 0.2995 - accuracy: 0.8853 - val_loss: 0.2875 - val_accuracy: 0.8928\n",
      "Epoch 24/50\n",
      "6704/6704 [==============================] - 0s 24us/step - loss: 0.3001 - accuracy: 0.8835 - val_loss: 0.2860 - val_accuracy: 0.8921\n",
      "Epoch 25/50\n",
      "6704/6704 [==============================] - 0s 16us/step - loss: 0.2953 - accuracy: 0.8841 - val_loss: 0.2855 - val_accuracy: 0.8904\n",
      "Epoch 26/50\n",
      "6704/6704 [==============================] - 0s 16us/step - loss: 0.2950 - accuracy: 0.8857 - val_loss: 0.2834 - val_accuracy: 0.8914\n",
      "Epoch 27/50\n",
      "6704/6704 [==============================] - 0s 17us/step - loss: 0.2958 - accuracy: 0.8817 - val_loss: 0.2815 - val_accuracy: 0.8932\n",
      "Epoch 28/50\n",
      "6704/6704 [==============================] - 0s 17us/step - loss: 0.2920 - accuracy: 0.8862 - val_loss: 0.2801 - val_accuracy: 0.8918\n",
      "Epoch 29/50\n",
      "6704/6704 [==============================] - 0s 16us/step - loss: 0.2933 - accuracy: 0.8860 - val_loss: 0.2790 - val_accuracy: 0.8928\n",
      "Epoch 30/50\n",
      "6704/6704 [==============================] - 0s 18us/step - loss: 0.2888 - accuracy: 0.8856 - val_loss: 0.2776 - val_accuracy: 0.8932\n",
      "Epoch 31/50\n",
      "6704/6704 [==============================] - 0s 17us/step - loss: 0.2892 - accuracy: 0.8851 - val_loss: 0.2766 - val_accuracy: 0.8918\n",
      "Epoch 32/50\n",
      "6704/6704 [==============================] - 0s 16us/step - loss: 0.2870 - accuracy: 0.8889 - val_loss: 0.2764 - val_accuracy: 0.8935\n",
      "Epoch 33/50\n",
      "6704/6704 [==============================] - 0s 16us/step - loss: 0.2863 - accuracy: 0.8859 - val_loss: 0.2763 - val_accuracy: 0.8928\n",
      "Epoch 34/50\n",
      "6704/6704 [==============================] - 0s 16us/step - loss: 0.2865 - accuracy: 0.8853 - val_loss: 0.2750 - val_accuracy: 0.8935\n",
      "Epoch 35/50\n",
      "6704/6704 [==============================] - 0s 16us/step - loss: 0.2859 - accuracy: 0.8865 - val_loss: 0.2741 - val_accuracy: 0.8935\n",
      "Epoch 36/50\n",
      "6704/6704 [==============================] - 0s 16us/step - loss: 0.2810 - accuracy: 0.8892 - val_loss: 0.2731 - val_accuracy: 0.8932\n",
      "Epoch 37/50\n",
      "6704/6704 [==============================] - 0s 16us/step - loss: 0.2826 - accuracy: 0.8881 - val_loss: 0.2721 - val_accuracy: 0.8928\n",
      "Epoch 38/50\n",
      "6704/6704 [==============================] - 0s 16us/step - loss: 0.2836 - accuracy: 0.8881 - val_loss: 0.2710 - val_accuracy: 0.8939\n",
      "Epoch 39/50\n",
      "6704/6704 [==============================] - 0s 18us/step - loss: 0.2789 - accuracy: 0.8893 - val_loss: 0.2699 - val_accuracy: 0.8949\n",
      "Epoch 40/50\n",
      "6704/6704 [==============================] - 0s 16us/step - loss: 0.2764 - accuracy: 0.8883 - val_loss: 0.2689 - val_accuracy: 0.8960\n",
      "Epoch 41/50\n",
      "6704/6704 [==============================] - 0s 16us/step - loss: 0.2769 - accuracy: 0.8892 - val_loss: 0.2683 - val_accuracy: 0.8956\n",
      "Epoch 42/50\n",
      "6704/6704 [==============================] - 0s 16us/step - loss: 0.2741 - accuracy: 0.8925 - val_loss: 0.2674 - val_accuracy: 0.8967\n",
      "Epoch 43/50\n",
      "6704/6704 [==============================] - 0s 16us/step - loss: 0.2751 - accuracy: 0.8920 - val_loss: 0.2669 - val_accuracy: 0.8949\n",
      "Epoch 44/50\n",
      "6704/6704 [==============================] - 0s 16us/step - loss: 0.2720 - accuracy: 0.8939 - val_loss: 0.2664 - val_accuracy: 0.8949\n",
      "Epoch 45/50\n",
      "6704/6704 [==============================] - 0s 23us/step - loss: 0.2736 - accuracy: 0.8925 - val_loss: 0.2659 - val_accuracy: 0.8953\n",
      "Epoch 46/50\n",
      "6704/6704 [==============================] - 0s 35us/step - loss: 0.2716 - accuracy: 0.8929 - val_loss: 0.2652 - val_accuracy: 0.8974\n",
      "Epoch 47/50\n",
      "6704/6704 [==============================] - 0s 32us/step - loss: 0.2723 - accuracy: 0.8917 - val_loss: 0.2645 - val_accuracy: 0.8960\n",
      "Epoch 48/50\n",
      "6704/6704 [==============================] - 0s 27us/step - loss: 0.2670 - accuracy: 0.8939 - val_loss: 0.2642 - val_accuracy: 0.8977\n",
      "Epoch 49/50\n",
      "6704/6704 [==============================] - 0s 31us/step - loss: 0.2693 - accuracy: 0.8939 - val_loss: 0.2634 - val_accuracy: 0.8984\n",
      "Epoch 50/50\n",
      "6704/6704 [==============================] - 0s 32us/step - loss: 0.2677 - accuracy: 0.8941 - val_loss: 0.2631 - val_accuracy: 0.8987\n"
     ]
    }
   ],
   "source": [
    "batch = int(x_train.shape[0]/50)\n",
    "nn_model = model.fit(x_train, y_train,validation_data=(x_test, y_test), epochs=epoch,batch_size = batch)"
   ]
  },
  {
   "cell_type": "code",
   "execution_count": 19,
   "metadata": {},
   "outputs": [
    {
     "name": "stdout",
     "output_type": "stream",
     "text": [
      "Train: 0.898, Test: 0.899\n"
     ]
    }
   ],
   "source": [
    "_, train_acc = model.evaluate(x_train, y_train, verbose=0)\n",
    "_, test_acc = model.evaluate(x_test, y_test, verbose=0)\n",
    "print('Train: %.3f, Test: %.3f' % (train_acc, test_acc))"
   ]
  },
  {
   "cell_type": "code",
   "execution_count": 20,
   "metadata": {},
   "outputs": [
    {
     "data": {
      "image/png": "[encoded data removed]",
      "text/plain": [
       "<Figure size 432x288 with 1 Axes>"
      ]
     },
     "metadata": {
      "needs_background": "light"
     },
     "output_type": "display_data"
    }
   ],
   "source": [
    "import matplotlib.pyplot as plt\n",
    "plt.plot(nn_model.history['accuracy'])\n",
    "plt.plot(nn_model.history['val_accuracy'])\n",
    "plt.title('Model accuracy')\n",
    "plt.ylabel('Accuracy')\n",
    "plt.xlabel('Epoch')\n",
    "plt.legend(['Train', 'Test'], loc='upper left')\n",
    "plt.show()"
   ]
  },
  {
   "cell_type": "code",
   "execution_count": 21,
   "metadata": {
    "scrolled": true
   },
   "outputs": [
    {
     "data": {
      "image/png": "[encoded data removed]",
      "text/plain": [
       "<Figure size 432x288 with 1 Axes>"
      ]
     },
     "metadata": {
      "needs_background": "light"
     },
     "output_type": "display_data"
    }
   ],
   "source": [
    "plt.plot(nn_model.history['loss']) \n",
    "plt.plot(nn_model.history['val_loss']) \n",
    "plt.title('Model loss') \n",
    "plt.ylabel('Loss') \n",
    "plt.xlabel('Epoch') \n",
    "plt.legend(['Train', 'Test'], loc='upper left') \n",
    "plt.show()"
   ]
  },
  {
   "cell_type": "markdown",
   "metadata": {},
   "source": [
    "Hyper parameter tunning"
   ]
  },
  {
   "cell_type": "code",
   "execution_count": 23,
   "metadata": {
    "scrolled": true
   },
   "outputs": [],
   "source": [
    "from keras.wrappers.scikit_learn import KerasClassifier\n",
    "from sklearn.model_selection import GridSearchCV"
   ]
  },
  {
   "cell_type": "code",
   "execution_count": 24,
   "metadata": {},
   "outputs": [
    {
     "name": "stdout",
     "output_type": "stream",
     "text": [
      "Fitting 3 folds for each of 36 candidates, totalling 108 fits\n"
     ]
    },
    {
     "name": "stderr",
     "output_type": "stream",
     "text": [
      "[Parallel(n_jobs=2)]: Using backend LokyBackend with 2 concurrent workers.\n",
      "[Parallel(n_jobs=2)]: Done   1 tasks      | elapsed:   15.6s\n",
      "[Parallel(n_jobs=2)]: Done   4 tasks      | elapsed:   20.8s\n",
      "[Parallel(n_jobs=2)]: Done   9 tasks      | elapsed:   36.7s\n",
      "[Parallel(n_jobs=2)]: Done  14 tasks      | elapsed:   51.5s\n",
      "[Parallel(n_jobs=2)]: Done  21 tasks      | elapsed:  1.4min\n",
      "[Parallel(n_jobs=2)]: Done  28 tasks      | elapsed:  1.9min\n",
      "[Parallel(n_jobs=2)]: Done  37 tasks      | elapsed:  2.8min\n",
      "[Parallel(n_jobs=2)]: Done  46 tasks      | elapsed:  3.2min\n",
      "[Parallel(n_jobs=2)]: Done  57 tasks      | elapsed:  4.1min\n",
      "[Parallel(n_jobs=2)]: Done  68 tasks      | elapsed:  5.2min\n",
      "[Parallel(n_jobs=2)]: Done  81 tasks      | elapsed:  6.1min\n",
      "[Parallel(n_jobs=2)]: Done  94 tasks      | elapsed:  6.9min\n",
      "[Parallel(n_jobs=2)]: Done 108 out of 108 | elapsed:  8.3min finished\n"
     ]
    }
   ],
   "source": [
    "s = x_train.shape[0]\n",
    "init_mode = ['glorot_normal', 'glorot_uniform', 'he_uniform']\n",
    "batch_size = [ int(s/20), int(s/50)]\n",
    "epochs = [75,100]\n",
    "optimizer = ['SGD', 'RMSprop', 'Adam']\n",
    "learn_rate = [0.001, 0.01]\n",
    "momentum = [0.0, 0.5, 0.9] \n",
    "activation = ['softplus', 'softmax', 'relu']\n",
    "dropout_rate = [0.2, 0.4, 0.6, 0.8, 0.9]\n",
    "from keras.constraints import maxnorm\n",
    "def create_model(init_mode='glorot_normal',activation='relu',dropout_rate=0.0, learn_rate=0.001,\n",
    "                neuron=15,optimizer='Adam'):\n",
    "    model = Sequential()\n",
    "    model.add(Dense(neuron, input_dim=cols, activation=activation, kernel_initializer=init_mode))\n",
    "    model.add(BatchNormalization())\n",
    "    model.add(Dense(neuron, activation=activation))\n",
    "    model.add(Dropout(dropout_rate))\n",
    "    model.add(Dense(neuron, activation=activation))\n",
    "    model.add(Dense(1, activation='sigmoid'))\n",
    "    optimizer = Adam(learning_rate=learn_rate)\n",
    "    model.compile(loss='binary_crossentropy', optimizer=optimizer, metrics=['accuracy'])\n",
    "    return model\n",
    "\n",
    "model_CV = KerasClassifier(build_fn=create_model, verbose=0,epochs=75, batch_size=134)\n",
    "param_grid = dict(init_mode=init_mode,batch_size=batch_size,epochs=epochs,activation=activation)\n",
    "grid_search = GridSearchCV(estimator=model_CV, param_grid=param_grid,cv=3,\n",
    "                           scoring='accuracy', verbose=10, n_jobs=2)\n",
    "result = grid_search.fit(x_train, y_train)\n"
   ]
  },
  {
   "cell_type": "code",
   "execution_count": 25,
   "metadata": {},
   "outputs": [
    {
     "name": "stdout",
     "output_type": "stream",
     "text": [
      "Best Accuracy for 0.9197500896256553 using {'activation': 'softmax', 'batch_size': 134, 'epochs': 75, 'init_mode': 'glorot_uniform'}\n",
      "\n",
      " mean=0.9056, std=0.003544 using {'activation': 'softplus', 'batch_size': 335, 'epochs': 75, 'init_mode': 'glorot_normal'}\n",
      " mean=0.9007, std=0.0003837 using {'activation': 'softplus', 'batch_size': 335, 'epochs': 75, 'init_mode': 'glorot_uniform'}\n",
      " mean=0.9021, std=0.0005623 using {'activation': 'softplus', 'batch_size': 335, 'epochs': 75, 'init_mode': 'he_uniform'}\n",
      " mean=0.9017, std=0.002442 using {'activation': 'softplus', 'batch_size': 335, 'epochs': 100, 'init_mode': 'glorot_normal'}\n",
      " mean=0.9021, std=0.0009007 using {'activation': 'softplus', 'batch_size': 335, 'epochs': 100, 'init_mode': 'glorot_uniform'}\n",
      " mean=0.9023, std=0.003717 using {'activation': 'softplus', 'batch_size': 335, 'epochs': 100, 'init_mode': 'he_uniform'}\n",
      " mean=0.9083, std=0.00417 using {'activation': 'softplus', 'batch_size': 134, 'epochs': 75, 'init_mode': 'glorot_normal'}\n",
      " mean=0.9081, std=0.004013 using {'activation': 'softplus', 'batch_size': 134, 'epochs': 75, 'init_mode': 'glorot_uniform'}\n",
      " mean=0.9083, std=0.002512 using {'activation': 'softplus', 'batch_size': 134, 'epochs': 75, 'init_mode': 'he_uniform'}\n",
      " mean=0.9112, std=0.003675 using {'activation': 'softplus', 'batch_size': 134, 'epochs': 100, 'init_mode': 'glorot_normal'}\n",
      " mean=0.9093, std=0.001372 using {'activation': 'softplus', 'batch_size': 134, 'epochs': 100, 'init_mode': 'glorot_uniform'}\n",
      " mean=0.9047, std=0.001678 using {'activation': 'softplus', 'batch_size': 134, 'epochs': 100, 'init_mode': 'he_uniform'}\n",
      " mean=0.8971, std=0.001601 using {'activation': 'softmax', 'batch_size': 335, 'epochs': 75, 'init_mode': 'glorot_normal'}\n",
      " mean=0.9038, std=0.001096 using {'activation': 'softmax', 'batch_size': 335, 'epochs': 75, 'init_mode': 'glorot_uniform'}\n",
      " mean=0.9013, std=0.004018 using {'activation': 'softmax', 'batch_size': 335, 'epochs': 75, 'init_mode': 'he_uniform'}\n",
      " mean=0.9023, std=0.004975 using {'activation': 'softmax', 'batch_size': 335, 'epochs': 100, 'init_mode': 'glorot_normal'}\n",
      " mean=0.9059, std=0.00174 using {'activation': 'softmax', 'batch_size': 335, 'epochs': 100, 'init_mode': 'glorot_uniform'}\n",
      " mean=0.9013, std=0.008754 using {'activation': 'softmax', 'batch_size': 335, 'epochs': 100, 'init_mode': 'he_uniform'}\n",
      " mean=0.9065, std=0.005727 using {'activation': 'softmax', 'batch_size': 134, 'epochs': 75, 'init_mode': 'glorot_normal'}\n",
      " mean=0.9198, std=0.003299 using {'activation': 'softmax', 'batch_size': 134, 'epochs': 75, 'init_mode': 'glorot_uniform'}\n",
      " mean=0.9039, std=0.004102 using {'activation': 'softmax', 'batch_size': 134, 'epochs': 75, 'init_mode': 'he_uniform'}\n",
      " mean=0.9156, std=0.00697 using {'activation': 'softmax', 'batch_size': 134, 'epochs': 100, 'init_mode': 'glorot_normal'}\n",
      " mean=0.9081, std=0.009411 using {'activation': 'softmax', 'batch_size': 134, 'epochs': 100, 'init_mode': 'glorot_uniform'}\n",
      " mean=0.9139, std=0.0009363 using {'activation': 'softmax', 'batch_size': 134, 'epochs': 100, 'init_mode': 'he_uniform'}\n",
      " mean=0.9026, std=0.002359 using {'activation': 'relu', 'batch_size': 335, 'epochs': 75, 'init_mode': 'glorot_normal'}\n",
      " mean=0.9068, std=0.002453 using {'activation': 'relu', 'batch_size': 335, 'epochs': 75, 'init_mode': 'glorot_uniform'}\n",
      " mean=0.8987, std=0.002437 using {'activation': 'relu', 'batch_size': 335, 'epochs': 75, 'init_mode': 'he_uniform'}\n",
      " mean=0.9026, std=0.001045 using {'activation': 'relu', 'batch_size': 335, 'epochs': 100, 'init_mode': 'glorot_normal'}\n",
      " mean=0.9021, std=0.003125 using {'activation': 'relu', 'batch_size': 335, 'epochs': 100, 'init_mode': 'glorot_uniform'}\n",
      " mean=0.902, std=0.008861 using {'activation': 'relu', 'batch_size': 335, 'epochs': 100, 'init_mode': 'he_uniform'}\n",
      " mean=0.8998, std=0.0055 using {'activation': 'relu', 'batch_size': 134, 'epochs': 75, 'init_mode': 'glorot_normal'}\n",
      " mean=0.9069, std=0.001671 using {'activation': 'relu', 'batch_size': 134, 'epochs': 75, 'init_mode': 'glorot_uniform'}\n",
      " mean=0.9017, std=0.006831 using {'activation': 'relu', 'batch_size': 134, 'epochs': 75, 'init_mode': 'he_uniform'}\n",
      " mean=0.9062, std=0.003713 using {'activation': 'relu', 'batch_size': 134, 'epochs': 100, 'init_mode': 'glorot_normal'}\n",
      " mean=0.9072, std=0.00681 using {'activation': 'relu', 'batch_size': 134, 'epochs': 100, 'init_mode': 'glorot_uniform'}\n",
      " mean=0.9038, std=0.004562 using {'activation': 'relu', 'batch_size': 134, 'epochs': 100, 'init_mode': 'he_uniform'}\n"
     ]
    }
   ],
   "source": [
    "print(f'Best Accuracy for {result.best_score_} using {result.best_params_}\\n')\n",
    "means = result.cv_results_['mean_test_score']\n",
    "stds = result.cv_results_['std_test_score']\n",
    "params = result.cv_results_['params']\n",
    "for mean, stdev, param in zip(means, stds, params):\n",
    "    print(f' mean={mean:.4}, std={stdev:.4} using {param}')\n"
   ]
  },
  {
   "cell_type": "code",
   "execution_count": 28,
   "metadata": {},
   "outputs": [
    {
     "name": "stdout",
     "output_type": "stream",
     "text": [
      "Fitting 3 folds for each of 15 candidates, totalling 45 fits\n"
     ]
    },
    {
     "name": "stderr",
     "output_type": "stream",
     "text": [
      "[Parallel(n_jobs=2)]: Using backend LokyBackend with 2 concurrent workers.\n",
      "[Parallel(n_jobs=2)]: Done   1 tasks      | elapsed:   53.6s\n",
      "[Parallel(n_jobs=2)]: Done   4 tasks      | elapsed:  1.5min\n",
      "[Parallel(n_jobs=2)]: Done   9 tasks      | elapsed:  3.4min\n",
      "[Parallel(n_jobs=2)]: Done  14 tasks      | elapsed:  4.5min\n",
      "[Parallel(n_jobs=2)]: Done  21 tasks      | elapsed:  6.8min\n",
      "[Parallel(n_jobs=2)]: Done  28 tasks      | elapsed:  8.7min\n",
      "[Parallel(n_jobs=2)]: Done  37 tasks      | elapsed: 11.5min\n",
      "[Parallel(n_jobs=2)]: Done  45 out of  45 | elapsed: 13.8min finished\n"
     ]
    }
   ],
   "source": [
    "optimizer = ['SGD', 'RMSprop', 'Adam']\n",
    "learn_rate = [0.001, 0.01]\n",
    "momentum = [0.0, 0.5, 0.9] \n",
    "dropout_rate = [0.2, 0.4, 0.6, 0.8, 0.9]\n",
    "# neurons = [10,15,20,25,30]\n",
    "from keras.constraints import maxnorm\n",
    "def create_model(init_mode='he_uniform',activation='relu',dropout_rate=0.0,\n",
    "                neuron=15,optimizer='Adam'):\n",
    "    model = Sequential()\n",
    "    model.add(Dense(neuron, input_dim=cols, activation=activation, kernel_initializer=init_mode))\n",
    "    model.add(BatchNormalization())\n",
    "    model.add(Dense(neuron, activation=activation))\n",
    "    model.add(Dropout(dropout_rate))\n",
    "    model.add(Dense(neuron, activation=activation))\n",
    "    model.add(Dense(1, activation='sigmoid'))\n",
    "    #optimizer = Adam(learning_rate=learn_rate)\n",
    "    model.compile(loss='binary_crossentropy', optimizer=optimizer, metrics=['accuracy'])\n",
    "    return model\n",
    "\n",
    "\n",
    "model_CV = KerasClassifier(build_fn=create_model, verbose=0,epochs=100, batch_size=30)\n",
    "param_grid = dict(optimizer=optimizer,dropout_rate=dropout_rate)\n",
    "grid_search = GridSearchCV(estimator=model_CV, param_grid=param_grid,cv=3,\n",
    "                           scoring='accuracy', verbose=10,n_jobs=2)\n",
    "result = grid_search.fit(x_train, y_train)\n"
   ]
  },
  {
   "cell_type": "code",
   "execution_count": 29,
   "metadata": {},
   "outputs": [
    {
     "name": "stdout",
     "output_type": "stream",
     "text": [
      "Best Accuracy for 0.909756078021386 using {'dropout_rate': 0.2, 'optimizer': 'Adam'}\n",
      "\n",
      " mean=0.8999, std=0.003507 using {'dropout_rate': 0.2, 'optimizer': 'SGD'}\n",
      " mean=0.9078, std=0.002881 using {'dropout_rate': 0.2, 'optimizer': 'RMSprop'}\n",
      " mean=0.9098, std=0.005236 using {'dropout_rate': 0.2, 'optimizer': 'Adam'}\n",
      " mean=0.8987, std=0.003492 using {'dropout_rate': 0.4, 'optimizer': 'SGD'}\n",
      " mean=0.9056, std=0.004212 using {'dropout_rate': 0.4, 'optimizer': 'RMSprop'}\n",
      " mean=0.905, std=0.004727 using {'dropout_rate': 0.4, 'optimizer': 'Adam'}\n",
      " mean=0.8743, std=0.01885 using {'dropout_rate': 0.6, 'optimizer': 'SGD'}\n",
      " mean=0.8993, std=0.01252 using {'dropout_rate': 0.6, 'optimizer': 'RMSprop'}\n",
      " mean=0.8966, std=0.001888 using {'dropout_rate': 0.6, 'optimizer': 'Adam'}\n",
      " mean=0.8477, std=0.02888 using {'dropout_rate': 0.8, 'optimizer': 'SGD'}\n",
      " mean=0.8799, std=0.01789 using {'dropout_rate': 0.8, 'optimizer': 'RMSprop'}\n",
      " mean=0.8599, std=0.007645 using {'dropout_rate': 0.8, 'optimizer': 'Adam'}\n",
      " mean=0.8164, std=0.01314 using {'dropout_rate': 0.9, 'optimizer': 'SGD'}\n",
      " mean=0.8167, std=0.01436 using {'dropout_rate': 0.9, 'optimizer': 'RMSprop'}\n",
      " mean=0.8376, std=0.007484 using {'dropout_rate': 0.9, 'optimizer': 'Adam'}\n"
     ]
    }
   ],
   "source": [
    "print(f'Best Accuracy for {result.best_score_} using {result.best_params_}\\n')\n",
    "means = result.cv_results_['mean_test_score']\n",
    "stds = result.cv_results_['std_test_score']\n",
    "params = result.cv_results_['params']\n",
    "for mean, stdev, param in zip(means, stds, params):\n",
    "    print(f' mean={mean:.4}, std={stdev:.4} using {param}')\n"
   ]
  },
  {
   "cell_type": "markdown",
   "metadata": {},
   "source": [
    "Final Model Neural Network"
   ]
  },
  {
   "cell_type": "code",
   "execution_count": 30,
   "metadata": {
    "scrolled": true
   },
   "outputs": [
    {
     "name": "stdout",
     "output_type": "stream",
     "text": [
      "Train on 6704 samples, validate on 2874 samples\n",
      "Epoch 1/20\n",
      "6704/6704 [==============================] - 1s 189us/step - loss: 0.5216 - accuracy: 0.7955 - val_loss: 0.4343 - val_accuracy: 0.8142\n",
      "Epoch 2/20\n",
      "6704/6704 [==============================] - 1s 102us/step - loss: 0.4390 - accuracy: 0.8031 - val_loss: 0.3590 - val_accuracy: 0.8264\n",
      "Epoch 3/20\n",
      "6704/6704 [==============================] - 1s 96us/step - loss: 0.3802 - accuracy: 0.8364 - val_loss: 0.3021 - val_accuracy: 0.8820\n",
      "Epoch 4/20\n",
      "6704/6704 [==============================] - 1s 88us/step - loss: 0.3403 - accuracy: 0.8628 - val_loss: 0.2817 - val_accuracy: 0.8894\n",
      "Epoch 5/20\n",
      "6704/6704 [==============================] - 1s 99us/step - loss: 0.3130 - accuracy: 0.8747 - val_loss: 0.2649 - val_accuracy: 0.8970\n",
      "Epoch 6/20\n",
      "6704/6704 [==============================] - 1s 96us/step - loss: 0.3036 - accuracy: 0.8793 - val_loss: 0.2654 - val_accuracy: 0.9033\n",
      "Epoch 7/20\n",
      "6704/6704 [==============================] - 1s 96us/step - loss: 0.2930 - accuracy: 0.8847 - val_loss: 0.2545 - val_accuracy: 0.9036\n",
      "Epoch 8/20\n",
      "6704/6704 [==============================] - 1s 97us/step - loss: 0.2836 - accuracy: 0.8828 - val_loss: 0.2505 - val_accuracy: 0.9085\n",
      "Epoch 9/20\n",
      "6704/6704 [==============================] - 1s 96us/step - loss: 0.2786 - accuracy: 0.8911 - val_loss: 0.2488 - val_accuracy: 0.9068\n",
      "Epoch 10/20\n",
      "6704/6704 [==============================] - 1s 94us/step - loss: 0.2818 - accuracy: 0.8859 - val_loss: 0.2464 - val_accuracy: 0.9071\n",
      "Epoch 11/20\n",
      "6704/6704 [==============================] - 1s 95us/step - loss: 0.2800 - accuracy: 0.8880 - val_loss: 0.2488 - val_accuracy: 0.9099\n",
      "Epoch 12/20\n",
      "6704/6704 [==============================] - 1s 130us/step - loss: 0.2719 - accuracy: 0.8895 - val_loss: 0.2530 - val_accuracy: 0.9099\n",
      "Epoch 13/20\n",
      "6704/6704 [==============================] - 1s 102us/step - loss: 0.2705 - accuracy: 0.8926 - val_loss: 0.2498 - val_accuracy: 0.9071\n",
      "Epoch 14/20\n",
      "6704/6704 [==============================] - 1s 95us/step - loss: 0.2609 - accuracy: 0.8926 - val_loss: 0.2453 - val_accuracy: 0.9120\n",
      "Epoch 15/20\n",
      "6704/6704 [==============================] - 1s 93us/step - loss: 0.2644 - accuracy: 0.8923 - val_loss: 0.2430 - val_accuracy: 0.9113\n",
      "Epoch 16/20\n",
      "6704/6704 [==============================] - 1s 96us/step - loss: 0.2553 - accuracy: 0.8945 - val_loss: 0.2367 - val_accuracy: 0.9113\n",
      "Epoch 17/20\n",
      "6704/6704 [==============================] - 1s 97us/step - loss: 0.2614 - accuracy: 0.8913 - val_loss: 0.2448 - val_accuracy: 0.9081\n",
      "Epoch 18/20\n",
      "6704/6704 [==============================] - 1s 95us/step - loss: 0.2545 - accuracy: 0.8944 - val_loss: 0.2392 - val_accuracy: 0.9092\n",
      "Epoch 19/20\n",
      "6704/6704 [==============================] - 1s 94us/step - loss: 0.2514 - accuracy: 0.8939 - val_loss: 0.2464 - val_accuracy: 0.9085\n",
      "Epoch 20/20\n",
      "6704/6704 [==============================] - 1s 95us/step - loss: 0.2517 - accuracy: 0.9010 - val_loss: 0.2326 - val_accuracy: 0.9120\n",
      "Train: 0.918, Test: 0.912\n"
     ]
    },
    {
     "data": {
      "image/png": "[encoded data removed]",
      "text/plain": [
       "<Figure size 432x288 with 1 Axes>"
      ]
     },
     "metadata": {
      "needs_background": "light"
     },
     "output_type": "display_data"
    },
    {
     "data": {
      "image/png": "[encoded data removed]",
      "text/plain": [
       "<Figure size 432x288 with 1 Axes>"
      ]
     },
     "metadata": {
      "needs_background": "light"
     },
     "output_type": "display_data"
    }
   ],
   "source": [
    "dr = 0.2\n",
    "model = Sequential()\n",
    "model.add(Dense(20, input_dim=cols, activation='relu', kernel_initializer='he_uniform'))\n",
    "model.add(BatchNormalization())\n",
    "model.add(Dense(30,kernel_initializer='he_uniform', activation='relu'))\n",
    "model.add(Dropout(dr))\n",
    "model.add(Dense(20,kernel_initializer='he_uniform', activation='relu'))\n",
    "model.add(Dropout(dr))\n",
    "model.add(Dense(20,kernel_initializer='he_uniform', activation='relu'))\n",
    "model.add(Dropout(dr))\n",
    "model.add(Dense(20,kernel_initializer='he_uniform', activation='relu'))\n",
    "model.add(Dense(1, activation='sigmoid'))\n",
    "epoch=20\n",
    "lr = 0.001\n",
    "decay_rate = lr / epoch\n",
    "momentum = 0.9\n",
    "optimizer = Adam(learning_rate=lr)\n",
    "model.compile(loss='binary_crossentropy', optimizer=optimizer, metrics=['accuracy'])\n",
    "batch = 30 #int(x_train.shape[0]/50)\n",
    "nn_model = model.fit(x_train, y_train,validation_data=(x_test, y_test), epochs=epoch,batch_size = batch)\n",
    "_, train_acc = model.evaluate(x_train, y_train, verbose=0)\n",
    "_, test_acc = model.evaluate(x_test, y_test, verbose=0)\n",
    "print('Train: %.3f, Test: %.3f' % (train_acc, test_acc))\n",
    "plt.plot(nn_model.history['accuracy'])\n",
    "plt.plot(nn_model.history['val_accuracy'])\n",
    "plt.title('Model accuracy')\n",
    "plt.ylabel('Accuracy')\n",
    "plt.xlabel('Epoch')\n",
    "plt.legend(['Train', 'Test'], loc='upper left')\n",
    "plt.show()\n",
    "plt.plot(nn_model.history['loss']) \n",
    "plt.plot(nn_model.history['val_loss']) \n",
    "plt.title('Model loss') \n",
    "plt.ylabel('Loss') \n",
    "plt.xlabel('Epoch') \n",
    "plt.legend(['Train', 'Test'], loc='upper left') \n",
    "plt.show()"
   ]
  },
  {
   "cell_type": "markdown",
   "metadata": {},
   "source": [
    "Accuracy : Train: 0.918, Test: 0.912"
   ]
  },
  {
   "cell_type": "code",
   "execution_count": null,
   "metadata": {},
   "outputs": [],
   "source": []
  }
 ],
 "metadata": {
  "kernelspec": {
   "display_name": "Python 3",
   "language": "python",
   "name": "python3"
  },
  "language_info": {
   "codemirror_mode": {
    "name": "ipython",
    "version": 3
   },
   "file_extension": ".py",
   "mimetype": "text/x-python",
   "name": "python",
   "nbconvert_exporter": "python",
   "pygments_lexer": "ipython3",
   "version": "3.7.0"
  }
 },
 "nbformat": 4,
 "nbformat_minor": 4
}
